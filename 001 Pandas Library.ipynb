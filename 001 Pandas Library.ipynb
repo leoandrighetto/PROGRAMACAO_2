{
 "cells": [
  {
   "cell_type": "code",
   "execution_count": 3,
   "metadata": {},
   "outputs": [],
   "source": [
    "#IMPORTANDO O PANDAS\n",
    "import pandas as pd\n"
   ]
  },
  {
   "cell_type": "code",
   "execution_count": 4,
   "metadata": {},
   "outputs": [],
   "source": [
    "#LENDO UM ARQUIVO CSV\n",
    "\n",
    "# arquivo_df = pd.read_csv('arquivo.csv')\n",
    "\n",
    "# display(arquivo_df)"
   ]
  },
  {
   "cell_type": "code",
   "execution_count": 5,
   "metadata": {},
   "outputs": [],
   "source": [
    "#PARA LER UMA QUANTIDADE DE LINHAS (DO INÍCIO)\n",
    "\n",
    "#arquivo_df.head(10)"
   ]
  },
  {
   "cell_type": "code",
   "execution_count": 6,
   "metadata": {},
   "outputs": [],
   "source": [
    "# PARA LER UMA QUANTIDADE DE LINHAS (A PARTIR NO FINAL)\n",
    "\n",
    "# arquivo_df.tail(10)"
   ]
  },
  {
   "cell_type": "code",
   "execution_count": 7,
   "metadata": {},
   "outputs": [],
   "source": [
    "# PARA VERIFICAR QUAIS SÃO OS TIPOS DE DADOS DAS COLUNAS.\n",
    "\n",
    "# arquivo_df.dtypes"
   ]
  },
  {
   "cell_type": "code",
   "execution_count": 8,
   "metadata": {},
   "outputs": [],
   "source": [
    "# PARA ARMAZENAR DADOS EM OUTRO FORMATO AO INVÉS DE LÊ-LO:\n",
    "# arquivo_df.to_excel(\"arquivo_df1.xlsx\", sheet_name = \"sheet 1\", index = False)\n",
    "\n",
    "# arquivo_df1 = pd.read_excel('arquivo_df1.xlsx')\n",
    "# display(arquivo_df1)"
   ]
  },
  {
   "cell_type": "code",
   "execution_count": 9,
   "metadata": {},
   "outputs": [],
   "source": [
    "# PARA VISUALIZAR UM RESUMO TÉCNICO CO DATAFRAME:\n",
    "\n",
    "# arquivo_df1.info()"
   ]
  },
  {
   "cell_type": "code",
   "execution_count": 10,
   "metadata": {},
   "outputs": [
    {
     "data": {
      "text/html": [
       "<div>\n",
       "<style scoped>\n",
       "    .dataframe tbody tr th:only-of-type {\n",
       "        vertical-align: middle;\n",
       "    }\n",
       "\n",
       "    .dataframe tbody tr th {\n",
       "        vertical-align: top;\n",
       "    }\n",
       "\n",
       "    .dataframe thead th {\n",
       "        text-align: right;\n",
       "    }\n",
       "</style>\n",
       "<table border=\"1\" class=\"dataframe\">\n",
       "  <thead>\n",
       "    <tr style=\"text-align: right;\">\n",
       "      <th></th>\n",
       "      <th>Aluno</th>\n",
       "      <th>Matrícula</th>\n",
       "      <th>Turma</th>\n",
       "      <th>Idade</th>\n",
       "      <th>Profissão</th>\n",
       "      <th>Semestre</th>\n",
       "    </tr>\n",
       "  </thead>\n",
       "  <tbody>\n",
       "    <tr>\n",
       "      <th>0</th>\n",
       "      <td>Leonardo</td>\n",
       "      <td>20240167463</td>\n",
       "      <td>ADS 2</td>\n",
       "      <td>27</td>\n",
       "      <td>Estágio em Programação</td>\n",
       "      <td>2</td>\n",
       "    </tr>\n",
       "  </tbody>\n",
       "</table>\n",
       "</div>"
      ],
      "text/plain": [
       "      Aluno    Matrícula  Turma  Idade               Profissão  Semestre\n",
       "0  Leonardo  20240167463  ADS 2     27  Estágio em Programação         2"
      ]
     },
     "metadata": {},
     "output_type": "display_data"
    }
   ],
   "source": [
    "# PARA CRIAR A PRÓPRIA DATAFRAME PODE-SE COMEÇAR CRIANDO UM DICIONÁRIO:\n",
    "\n",
    "tabela = {'Aluno': ['Leonardo'] , 'Matrícula': [20240167463], 'Turma': ['ADS 2'],\n",
    "          'Idade': [27], 'Profissão': ['Estágio em Programação'], 'Semestre': [2]\n",
    "          }\n",
    "\n",
    "tabela_df = pd.DataFrame(tabela)\n",
    "\n",
    "display(tabela_df)\n"
   ]
  },
  {
   "cell_type": "code",
   "execution_count": 11,
   "metadata": {},
   "outputs": [
    {
     "data": {
      "text/html": [
       "<div>\n",
       "<style scoped>\n",
       "    .dataframe tbody tr th:only-of-type {\n",
       "        vertical-align: middle;\n",
       "    }\n",
       "\n",
       "    .dataframe tbody tr th {\n",
       "        vertical-align: top;\n",
       "    }\n",
       "\n",
       "    .dataframe thead th {\n",
       "        text-align: right;\n",
       "    }\n",
       "</style>\n",
       "<table border=\"1\" class=\"dataframe\">\n",
       "  <thead>\n",
       "    <tr style=\"text-align: right;\">\n",
       "      <th></th>\n",
       "      <th>Aluno</th>\n",
       "      <th>Matrícula</th>\n",
       "      <th>Turma</th>\n",
       "      <th>Idade</th>\n",
       "      <th>Profissão</th>\n",
       "      <th>Semestre</th>\n",
       "    </tr>\n",
       "  </thead>\n",
       "  <tbody>\n",
       "    <tr>\n",
       "      <th>0</th>\n",
       "      <td>Leonardo</td>\n",
       "      <td>20240167463</td>\n",
       "      <td>ADS 2</td>\n",
       "      <td>27</td>\n",
       "      <td>Estágio em Programação</td>\n",
       "      <td>2</td>\n",
       "    </tr>\n",
       "    <tr>\n",
       "      <th>1</th>\n",
       "      <td>Samanta</td>\n",
       "      <td>12345</td>\n",
       "      <td>ADS 2</td>\n",
       "      <td>27</td>\n",
       "      <td>INDETERMINADA</td>\n",
       "      <td>2</td>\n",
       "    </tr>\n",
       "  </tbody>\n",
       "</table>\n",
       "</div>"
      ],
      "text/plain": [
       "      Aluno    Matrícula  Turma  Idade               Profissão  Semestre\n",
       "0  Leonardo  20240167463  ADS 2     27  Estágio em Programação         2\n",
       "1   Samanta        12345  ADS 2     27           INDETERMINADA         2"
      ]
     },
     "metadata": {},
     "output_type": "display_data"
    }
   ],
   "source": [
    "# PARA ADICIONAR NOVAS LINHAS DENTRO DA TABELA CRAIDA:\n",
    "\n",
    "tabela_df.loc[len(tabela_df)] = ['Samanta', 12345, 'ADS 2', 27, 'INDETERMINADA', 2]\n",
    "\n",
    "display(tabela_df)\n"
   ]
  },
  {
   "cell_type": "code",
   "execution_count": 12,
   "metadata": {},
   "outputs": [],
   "source": [
    "# PARA DELETAR DEFINITIVAMENTE UM DADO(LINHA):\n",
    "\n",
    "#tabela_df.drop(2, inplace = True)\n",
    "\n",
    "#display(tabela_df)"
   ]
  },
  {
   "cell_type": "code",
   "execution_count": 13,
   "metadata": {},
   "outputs": [
    {
     "data": {
      "text/html": [
       "<div>\n",
       "<style scoped>\n",
       "    .dataframe tbody tr th:only-of-type {\n",
       "        vertical-align: middle;\n",
       "    }\n",
       "\n",
       "    .dataframe tbody tr th {\n",
       "        vertical-align: top;\n",
       "    }\n",
       "\n",
       "    .dataframe thead th {\n",
       "        text-align: right;\n",
       "    }\n",
       "</style>\n",
       "<table border=\"1\" class=\"dataframe\">\n",
       "  <thead>\n",
       "    <tr style=\"text-align: right;\">\n",
       "      <th></th>\n",
       "      <th>Aluno</th>\n",
       "      <th>Matrícula</th>\n",
       "      <th>Turma</th>\n",
       "      <th>Idade</th>\n",
       "      <th>Profissão</th>\n",
       "      <th>Semestre</th>\n",
       "    </tr>\n",
       "  </thead>\n",
       "  <tbody>\n",
       "    <tr>\n",
       "      <th>0</th>\n",
       "      <td>Leonardo</td>\n",
       "      <td>20240167463</td>\n",
       "      <td>ADS 2</td>\n",
       "      <td>27</td>\n",
       "      <td>Estágio em Programação</td>\n",
       "      <td>2</td>\n",
       "    </tr>\n",
       "    <tr>\n",
       "      <th>1</th>\n",
       "      <td>Samanta</td>\n",
       "      <td>12345</td>\n",
       "      <td>ADS 2</td>\n",
       "      <td>27</td>\n",
       "      <td>INDETERMINADA</td>\n",
       "      <td>2</td>\n",
       "    </tr>\n",
       "  </tbody>\n",
       "</table>\n",
       "</div>"
      ],
      "text/plain": [
       "      Aluno    Matrícula  Turma  Idade               Profissão  Semestre\n",
       "0  Leonardo  20240167463  ADS 2     27  Estágio em Programação         2\n",
       "1   Samanta        12345  ADS 2     27           INDETERMINADA         2"
      ]
     },
     "metadata": {},
     "output_type": "display_data"
    }
   ],
   "source": [
    "# PARA DELETAR COLUNAS:\n",
    "\n",
    "#tabela_df.drop('Profissão', axis = 1, inplace= True)\n",
    "                #NOME         !COLUNA!     DEFINIDAMENTE\n",
    "display(tabela_df)"
   ]
  },
  {
   "cell_type": "code",
   "execution_count": null,
   "metadata": {},
   "outputs": [],
   "source": []
  }
 ],
 "metadata": {
  "kernelspec": {
   "display_name": "Python 3",
   "language": "python",
   "name": "python3"
  },
  "language_info": {
   "codemirror_mode": {
    "name": "ipython",
    "version": 3
   },
   "file_extension": ".py",
   "mimetype": "text/x-python",
   "name": "python",
   "nbconvert_exporter": "python",
   "pygments_lexer": "ipython3",
   "version": "3.12.3"
  }
 },
 "nbformat": 4,
 "nbformat_minor": 2
}
